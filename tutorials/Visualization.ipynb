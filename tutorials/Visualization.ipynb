{
 "cells": [
  {
   "cell_type": "markdown",
   "metadata": {},
   "source": [
    "# Visualizing images with antspy\n",
    "\n",
    "The antspy library provides a diverse collection of functions for creating quick visualizations to inspect images as well as publication-quality figures from images and overlays. This tutorial will run through those functions with brief explanations of their use and instructive examples.\n",
    "\n",
    "## Overview\n",
    "\n",
    "The following functions are available for visualizing images:\n",
    "\n",
    "- `movie` : create a mp4 from multiple image slices\n",
    "- `plot_directory` : create plots for all images in a directory\n",
    "- `plot_grid` : create custom grids of image slices\n",
    "- `plot_hist` : visualize the histogram of image intensity values\n",
    "- `plot_ortho` : show an ortho view for one or more images\n",
    "- `plot` : visualize an image in many different ways"
   ]
  },
  {
   "cell_type": "markdown",
   "metadata": {},
   "source": [
    "## Examples\n",
    "\n",
    "### plot\n",
    "\n",
    "### plot_ortho\n",
    "\n",
    "\n",
    "### plot_grid\n",
    "\n",
    "### plot_directory\n",
    "\n",
    "### movie\n",
    "\n"
   ]
  },
  {
   "cell_type": "markdown",
   "metadata": {},
   "source": [
    "## Summary\n",
    "\n",
    "The plotting functionality in antspy lets you flexibly create visualizations of your images. These visualizations can be used for everything from quick inspection of your data to publication-quality graphics. If you have any questions or suggestions, don't hesitate to post an issue on GitHub."
   ]
  },
  {
   "cell_type": "code",
   "execution_count": null,
   "metadata": {},
   "outputs": [],
   "source": []
  }
 ],
 "metadata": {
  "language_info": {
   "name": "python"
  }
 },
 "nbformat": 4,
 "nbformat_minor": 2
}
